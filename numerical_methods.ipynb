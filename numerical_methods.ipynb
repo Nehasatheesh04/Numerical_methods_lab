{
  "nbformat": 4,
  "nbformat_minor": 0,
  "metadata": {
    "colab": {
      "provenance": [],
      "authorship_tag": "ABX9TyM5H0csvQqF7yzZJvu/idWv",
      "include_colab_link": true
    },
    "kernelspec": {
      "name": "python3",
      "display_name": "Python 3"
    },
    "language_info": {
      "name": "python"
    }
  },
  "cells": [
    {
      "cell_type": "markdown",
      "metadata": {
        "id": "view-in-github",
        "colab_type": "text"
      },
      "source": [
        "<a href=\"https://colab.research.google.com/github/Nehasatheesh04/Numerical_methods_lab/blob/main/numerical_methods.ipynb\" target=\"_parent\"><img src=\"https://colab.research.google.com/assets/colab-badge.svg\" alt=\"Open In Colab\"/></a>"
      ]
    },
    {
      "cell_type": "code",
      "source": [
        "def bisect(f, a, b, e):\n",
        "    iteration=0\n",
        "    while b - a > e:\n",
        "        c = (a + b) / 2\n",
        "        print(\"iteration-%d,c=%0.6f,f(x)=%0.6f\"%(iteration,c,f(c)))\n",
        "        if abs(b - c) <= e:\n",
        "            root = c\n",
        "            return root\n",
        "        if f(b) * f(c) <= 0:\n",
        "            a = c\n",
        "        else:\n",
        "            b = c\n",
        "        iteration=iteration+1\n",
        "    root = (a + b) / 2\n",
        "    return root\n",
        "\n",
        "user_function_str = input(\"Enter your function in terms of x : \")\n",
        "\n",
        "\n",
        "def f(x):\n",
        "    return eval(user_function_str)\n",
        "\n",
        "\n",
        "a = float(input(\"Enter the value of a (a): \"))\n",
        "b = float(input(\"Enter the value of b (b): \"))\n",
        "\n",
        "\n",
        "e = float(input(\"Enter the tolerance (e): \"))\n",
        "\n",
        "result = bisect(f, a, b, e)\n",
        "print(\"Root:\", result)\n"
      ],
      "metadata": {
        "colab": {
          "base_uri": "https://localhost:8080/"
        },
        "id": "91t8oELI3RPM",
        "outputId": "a162e2ab-f73f-410a-d5ec-8f571a915d01"
      },
      "execution_count": 1,
      "outputs": [
        {
          "output_type": "stream",
          "name": "stdout",
          "text": [
            "Enter your function in terms of x : x**6-x-1\n",
            "Enter the value of a (a): 1\n",
            "Enter the value of b (b): 2\n",
            "Enter the tolerance (e): 0.00005\n",
            "iteration-0,c=1.500000,f(x)=8.890625\n",
            "iteration-1,c=1.250000,f(x)=1.564697\n",
            "iteration-2,c=1.125000,f(x)=-0.097713\n",
            "iteration-3,c=1.187500,f(x)=0.616653\n",
            "iteration-4,c=1.156250,f(x)=0.233269\n",
            "iteration-5,c=1.140625,f(x)=0.061578\n",
            "iteration-6,c=1.132812,f(x)=-0.019576\n",
            "iteration-7,c=1.136719,f(x)=0.020619\n",
            "iteration-8,c=1.134766,f(x)=0.000427\n",
            "iteration-9,c=1.133789,f(x)=-0.009598\n",
            "iteration-10,c=1.134277,f(x)=-0.004591\n",
            "iteration-11,c=1.134521,f(x)=-0.002084\n",
            "iteration-12,c=1.134644,f(x)=-0.000829\n",
            "iteration-13,c=1.134705,f(x)=-0.000201\n",
            "iteration-14,c=1.134735,f(x)=0.000113\n",
            "Root: 1.134735107421875\n"
          ]
        }
      ]
    },
    {
      "cell_type": "code",
      "execution_count": null,
      "metadata": {
        "colab": {
          "base_uri": "https://localhost:8080/"
        },
        "id": "f3LetOo1PmuG",
        "outputId": "3a80374c-da7e-48ec-f987-1de6c93b03a1"
      },
      "outputs": [
        {
          "output_type": "stream",
          "name": "stdout",
          "text": [
            "Enter your function in terms of x : x**3-4*x-9\n",
            "Enter the lower bound of the interval (a): 2\n",
            "Enter the upper bound of the interval (b): 3\n",
            "Enter the tolerance (e): 0.0005\n",
            "iteration-1, c=2.600000, f(c)=-1.824000\n",
            "iteration-2, c=2.693252, f(c)=-0.237227\n",
            "iteration-3, c=2.704918, f(c)=-0.028912\n",
            "iteration-4, c=2.706333, f(c)=-0.003495\n",
            "iteration-5, c=2.706504, f(c)=-0.000422\n",
            "iteration-6, c=2.706525, f(c)=-0.000051\n",
            "iteration-7, c=2.706528, f(c)=-0.000006\n",
            "iteration-8, c=2.706528, f(c)=-0.000001\n",
            "iteration-9, c=2.706528, f(c)=-0.000000\n",
            "iteration-10, c=2.706528, f(c)=-0.000000\n",
            "iteration-11, c=2.706528, f(c)=-0.000000\n",
            "iteration-12, c=2.706528, f(c)=-0.000000\n",
            "iteration-13, c=2.706528, f(c)=-0.000000\n",
            "iteration-14, c=2.706528, f(c)=-0.000000\n",
            "iteration-15, c=2.706528, f(c)=-0.000000\n",
            "iteration-16, c=2.706528, f(c)=-0.000000\n",
            "iteration-17, c=2.706528, f(c)=-0.000000\n",
            "iteration-18, c=2.706528, f(c)=0.000000\n",
            "Root: 2.706527954497935\n"
          ]
        }
      ],
      "source": [
        "def false_position(f, a, b, e):\n",
        "    iteration = 0\n",
        "    while abs(b - a) > e:\n",
        "        c = (a * f(b) - b * f(a)) / (f(b) - f(a))\n",
        "        if abs(b - c) <= e:\n",
        "            root = c\n",
        "            return root\n",
        "        if f(b) * f(c) <= 0:\n",
        "            a = c\n",
        "        else:\n",
        "            b = c\n",
        "\n",
        "        iteration += 1\n",
        "        print(\"iteration-%d, c=%0.6f, f(c)=%0.6f\" % (iteration, c, f(c)))\n",
        "\n",
        "    root = (a * f(b) - b * f(a)) / (f(b) - f(a))\n",
        "    return root\n",
        "\n",
        "\n",
        "user_function_str = input(\"Enter your function in terms of x : \")\n",
        "\n",
        "# Convert the input string to a Python function\n",
        "def user_function(x):\n",
        "    return eval(user_function_str)\n",
        "\n",
        "# Get user input for the initial interval [a, b]\n",
        "a = float(input(\"Enter the lower bound of the interval (a): \"))\n",
        "b = float(input(\"Enter the upper bound of the interval (b): \"))\n",
        "\n",
        "# Get user input for the tolerance (e)\n",
        "e = float(input(\"Enter the tolerance (e): \"))\n",
        "\n",
        "result = false_position(user_function, a, b, e)\n",
        "print(\"Root:\", result)\n",
        "\n"
      ]
    },
    {
      "cell_type": "code",
      "source": [
        "def newton_raphson(f, df, x0, e, max_iter):\n",
        "    iteration = 0\n",
        "    x = x0\n",
        "\n",
        "    while iteration < max_iter:\n",
        "        x_new = x - f(x) / df(x)\n",
        "\n",
        "        if abs(x_new - x) < e:\n",
        "            return x_new\n",
        "\n",
        "        x = x_new\n",
        "        iteration += 1\n",
        "        print(\"iteration-%d, x=%0.6f, f(x)=%0.6f\" % (iteration, x, f(x)))\n",
        "\n",
        "    print(\"Maximum number of iterations reached. No convergence.\")\n",
        "    return None\n",
        "\n",
        "# Get user input for the function as a string\n",
        "user_function_str = input(\"Enter your function in terms of x : \")\n",
        "\n",
        "# Convert the input string to a Python function\n",
        "def user_function(x):\n",
        "    return eval(user_function_str)\n",
        "\n",
        "# Get user input for the derivative as a string\n",
        "user_derivative_str = input(\"Enter the derivative of your function in terms of x: \")\n",
        "\n",
        "# Convert the input string to a Python function\n",
        "def user_derivative(x):\n",
        "    return eval(user_derivative_str)\n",
        "a = float(input(\"Enter the lower bound of the interval (a): \"))\n",
        "b = float(input(\"Enter the upper bound of the interval (b): \"))\n",
        "initial_guess = float(input(\"Enter the initial guess (x0): \"))\n",
        "tolerance = float(input(\"Enter the tolerance (e): \"))\n",
        "max_iterations = int(input(\"Enter the maximum number of iterations: \"))\n",
        "\n",
        "result = newton_raphson(user_function, user_derivative, initial_guess, tolerance, max_iterations)\n",
        "if result is not None:\n",
        "    print(\"Root:\", result)\n"
      ],
      "metadata": {
        "colab": {
          "base_uri": "https://localhost:8080/"
        },
        "id": "hobReO2GWbH8",
        "outputId": "db0c8661-9a03-4fe2-f56e-b3b45e3600f1"
      },
      "execution_count": null,
      "outputs": [
        {
          "output_type": "stream",
          "name": "stdout",
          "text": [
            "Enter your function in terms of x : x**6-x-1\n",
            "Enter the derivative of your function in terms of x: 6*x**5-1\n",
            "Enter the lower bound of the interval (a): 1\n",
            "Enter the upper bound of the interval (b): 2\n",
            "Enter the initial guess (x0): 2\n",
            "Enter the tolerance (e): 0.00005\n",
            "Enter the maximum number of iterations: 100\n",
            "iteration-1, x=1.680628, f(x)=19.852941\n",
            "iteration-2, x=1.430739, f(x)=6.146795\n",
            "iteration-3, x=1.254971, f(x)=1.651657\n",
            "iteration-4, x=1.161538, f(x)=0.294310\n",
            "iteration-5, x=1.136353, f(x)=0.016826\n",
            "iteration-6, x=1.134731, f(x)=0.000066\n",
            "Root: 1.1347241385002211\n"
          ]
        }
      ]
    },
    {
      "cell_type": "code",
      "source": [
        "def muller(f, x0, x1, x2, e, max_iter):\n",
        "    iteration = 0\n",
        "    x_prev = x2\n",
        "    while iteration < max_iter:\n",
        "        h0 = x1 - x0\n",
        "        h1 = x2 - x1\n",
        "        delta1 = (f(x1) - f(x0)) / h0\n",
        "        delta2 = (f(x2) - f(x1)) / h1\n",
        "        a = (delta2 - delta1) / (h1 + h0)\n",
        "        b = a * h1 + delta2\n",
        "        c = f(x2)\n",
        "        discriminant = (b**2 - 4 * a * c)**0.5\n",
        "\n",
        "        if abs(b + discriminant) > abs(b - discriminant):\n",
        "            denom = b + discriminant\n",
        "        else:\n",
        "            denom = b - discriminant\n",
        "\n",
        "        x3 = x2 - ((2 * c) / denom)\n",
        "\n",
        "        Ea = abs((x3 - x_prev) / x3) * 100\n",
        "        if Ea < e:\n",
        "            return x3\n",
        "\n",
        "        x_prev = x3  # Update previous iteration value\n",
        "        x0, x1, x2 = x1, x2, x3\n",
        "        iteration += 1\n",
        "\n",
        "        print(\"iteration-%d, x=%0.6f, Ea=%0.6f\" % (iteration, x3, Ea))\n",
        "\n",
        "    print(\"Maximum number of iterations reached. No convergence.\")\n",
        "    return None\n",
        "\n",
        "\n",
        "# Get user input for the function as a string\n",
        "user_function_str = input(\"Enter your function in terms of x : \")\n",
        "\n",
        "# Convert the input string to a Python function\n",
        "def user_function(x):\n",
        "    return eval(user_function_str)\n",
        "\n",
        "# Get user input for the initial guesses and tolerance\n",
        "x0 = float(input(\"Enter the first initial guess (x0): \"))\n",
        "x1 = float(input(\"Enter the second initial guess (x1): \"))\n",
        "x2 = float(input(\"Enter the third initial guess (x2): \"))\n",
        "tolerance = float(input(\"Enter the tolerance (e): \"))\n",
        "max_iterations = int(input(\"Enter the maximum number of iterations: \"))\n",
        "\n",
        "result = muller(user_function, x0, x1, x2, tolerance, max_iterations)\n",
        "if result is not None:\n",
        "    print(\"Root:\", result)"
      ],
      "metadata": {
        "colab": {
          "base_uri": "https://localhost:8080/"
        },
        "id": "aFiEOP2Bkkq3",
        "outputId": "8bff1d15-a5c4-4ab6-a819-f03aea0c2c1f"
      },
      "execution_count": null,
      "outputs": [
        {
          "output_type": "stream",
          "name": "stdout",
          "text": [
            "Enter your function in terms of x : x**3-13*x-12\n",
            "Enter the first initial guess (x0): 4.5\n",
            "Enter the second initial guess (x1): 5.5\n",
            "Enter the third initial guess (x2): 5\n",
            "Enter the tolerance (e): 0.00001\n",
            "Enter the maximum number of iterations: 100\n",
            "iteration-1, x=3.976487, Ea=25.739125\n",
            "iteration-2, x=4.001050, Ea=0.613925\n",
            "iteration-3, x=4.000001, Ea=0.026245\n",
            "iteration-4, x=4.000000, Ea=0.000018\n",
            "Root: 4.0\n"
          ]
        }
      ]
    },
    {
      "cell_type": "code",
      "source": [
        "import numpy as np\n",
        "import sys\n",
        "\n",
        "n=int(input(\"Enter the number of unknowns: \"))\n",
        "\n",
        "a=np.zeros((n,n+1))\n",
        "x=np.zeros(n)\n",
        "\n",
        "print(\"Enter augmented matrix: \")\n",
        "\n",
        "for i in range (n):\n",
        "  for j in range(n+1):\n",
        "    a[i][j] = float(input( 'a['+str(i)+']['+ str(j)+']='))\n",
        "\n",
        "for i in range(n):\n",
        "  if a[i][j]==0.0:\n",
        "    sys.exit('Divide by zero detected!!')\n",
        "  for j in range(i+1, n):\n",
        "        ratio = a[j][i]/a[i][i]\n",
        "\n",
        "        for k in range(n+1):\n",
        "            a[j][k] = a[j][k] - ratio * a[i][k]\n",
        "\n",
        "# Back Substitution\n",
        "x[n-1] = a[n-1][n]/a[n-1][n-1]\n",
        "\n",
        "for i in range(n-2,-1,-1):\n",
        "    x[i] = a[i][n]\n",
        "\n",
        "    for j in range(i+1,n):\n",
        "        x[i] = x[i] - a[i][j]*x[j]\n",
        "\n",
        "    x[i] = x[i]/a[i][i]\n",
        "\n",
        "# Displaying solution\n",
        "print('\\nRequired solution is: ')\n",
        "for i in range(n):\n",
        "    print('X%d = %0.2f' %(i,x[i]), end = '\\t')"
      ],
      "metadata": {
        "colab": {
          "base_uri": "https://localhost:8080/"
        },
        "id": "-eJann3IjT5I",
        "outputId": "ba9ccd57-fe74-4901-964d-d56dd154c752"
      },
      "execution_count": null,
      "outputs": [
        {
          "output_type": "stream",
          "name": "stdout",
          "text": [
            "Enter the number of unknowns: 3\n",
            "Enter augmented matrix: \n",
            "a[0][0]=10\n",
            "a[0][1]=1\n",
            "a[0][2]=1\n",
            "a[0][3]=12\n",
            "a[1][0]=1\n",
            "a[1][1]=10\n",
            "a[1][2]=-1\n",
            "a[1][3]=10\n",
            "a[2][0]=1\n",
            "a[2][1]=-2\n",
            "a[2][2]=10\n",
            "a[2][3]=9\n",
            "\n",
            "Required solution is: \n",
            "X0 = 1.00\tX1 = 1.00\tX2 = 1.00\t"
          ]
        }
      ]
    }
  ]
}